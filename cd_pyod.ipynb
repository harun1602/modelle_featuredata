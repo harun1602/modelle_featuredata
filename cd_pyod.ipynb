{
 "cells": [
  {
   "cell_type": "code",
   "id": "initial_id",
   "metadata": {
    "collapsed": true,
    "ExecuteTime": {
     "end_time": "2025-06-07T14:15:18.706589Z",
     "start_time": "2025-06-07T14:15:12.467417Z"
    }
   },
   "source": [
    "import h5py\n",
    "import numpy as np\n",
    "import matplotlib.pyplot as plt\n",
    "import seaborn as sns\n",
    "\n",
    "from sklearn.metrics import confusion_matrix, classification_report\n",
    "from sklearn.preprocessing import MinMaxScaler, StandardScaler\n",
    "from pyod.models.cd import CD\n",
    "\n",
    "normal_path = \"features/S01/1/Normal/c_data\"\n",
    "relay_path  = \"features/S01/1/Relay/c_data\"\n",
    "\n",
    "with h5py.File(\"datasets/features_S01_combined.h5\", \"r\") as f:\n",
    "    normal_group = f[normal_path]\n",
    "    relay_group  = f[relay_path]\n",
    "\n",
    "    n_norm = normal_group[\"0\"].shape[0]\n",
    "    n_relay = relay_group[\"0\"].shape[0]\n",
    "\n",
    "    dataset_normal = np.zeros((49997, n_norm))\n",
    "    dataset_relay  = np.zeros((49998, n_relay))\n",
    "\n",
    "    for i in range(49997):\n",
    "        try:\n",
    "            dataset_normal[i] = normal_group[str(i)][:]\n",
    "        except KeyError:\n",
    "            continue\n",
    "\n",
    "    for i in range(49998):\n",
    "        try:\n",
    "            dataset_relay[i] = relay_group[str(i)][:]\n",
    "        except KeyError:\n",
    "            continue\n",
    "\n",
    "scalerMinMax = MinMaxScaler()\n",
    "scalerStandard = StandardScaler()\n",
    "\n",
    "X_train               = dataset_normal[:47500]\n",
    "X_test_normal         = dataset_normal[47500:]\n",
    "X_test_relay          = dataset_relay[47500:]\n",
    "\n",
    "scalerMinMax.fit(X_train)\n",
    "X_train_scaled_minmax       = scalerMinMax.transform(X_train)\n",
    "X_test_norm_scaled_minmax   = scalerMinMax.transform(X_test_normal)\n",
    "X_test_relay_scaled_minmax  = scalerMinMax.transform(X_test_relay)\n",
    "\n",
    "scalerStandard.fit(X_train)\n",
    "X_train_scaled_standard        = scalerStandard.transform(X_train)\n",
    "X_test_norm_scaled_standard    = scalerStandard.transform(X_test_normal)\n",
    "X_test_relay_scaled_standard   = scalerStandard.transform(X_test_relay)\n",
    "\n",
    "X_test_combined = np.vstack((X_test_normal, X_test_relay))\n",
    "X_test_combined_scaled_minmax = np.vstack((X_test_norm_scaled_minmax, X_test_relay_scaled_minmax))\n",
    "X_test_combined_scaled_standard = np.vstack((X_test_norm_scaled_standard, X_test_relay_scaled_standard))\n",
    "\n",
    "y_true = np.array([0] * len(X_test_normal) + [1] * len(X_test_relay))"
   ],
   "outputs": [],
   "execution_count": 3
  },
  {
   "metadata": {
    "ExecuteTime": {
     "end_time": "2025-06-07T14:24:05.637069Z",
     "start_time": "2025-06-07T14:15:18.711938Z"
    }
   },
   "cell_type": "code",
   "source": [
    "# modell trainieren, contamination gibt an, wie viele outlier man im trainigsdatensatz hat\n",
    "# contamination kann man bei reiner novelty detection zb auf 0.01 oder 0.05 setzen\n",
    "clf = CD(contamination=0.01)\n",
    "clf.fit(X_train)\n",
    "\n",
    "# pyod.predict: 0 = inlier, 1 = outlier\n",
    "y_pred = clf.predict(X_test_combined)\n",
    "\n",
    "# cm und report\n",
    "cm = confusion_matrix(y_true, y_pred, labels=[1,0])\n",
    "print(\"\\nClassification Report:\\n\", classification_report(y_true, y_pred, target_names=[\"Normal\",\"Relay\"]))\n",
    "\n",
    "# plot\n",
    "plt.figure(figsize=(6,5))\n",
    "sns.heatmap(cm, annot=True, fmt=\"d\",\n",
    "            xticklabels=[\"Relay\",\"Normal\"],\n",
    "            yticklabels=[\"Relay\",\"Normal\"],\n",
    "            cbar=False)\n",
    "plt.xlabel(\"Predicted\")\n",
    "plt.ylabel(\"True\")\n",
    "plt.title(\"Konfusionsmatrix\")\n",
    "plt.tight_layout()\n",
    "plt.show()"
   ],
   "id": "564858504a87b781",
   "outputs": [
    {
     "name": "stderr",
     "output_type": "stream",
     "text": [
      "/Library/Frameworks/Python.framework/Versions/3.12/lib/python3.12/site-packages/pyod/models/cd.py:50: RuntimeWarning: invalid value encountered in divide\n",
      "  residuals_studentized = residuals / np.sqrt(mse) / np.sqrt(\n"
     ]
    },
    {
     "ename": "KeyboardInterrupt",
     "evalue": "",
     "output_type": "error",
     "traceback": [
      "\u001B[0;31m---------------------------------------------------------------------------\u001B[0m",
      "\u001B[0;31mKeyboardInterrupt\u001B[0m                         Traceback (most recent call last)",
      "Cell \u001B[0;32mIn[4], line 4\u001B[0m\n\u001B[1;32m      1\u001B[0m \u001B[38;5;66;03m# modell trainieren, contamination gibt an, wie viele outlier man im trainigsdatensatz hat\u001B[39;00m\n\u001B[1;32m      2\u001B[0m \u001B[38;5;66;03m# contamination kann man bei reiner novelty detection zb auf 0.01 oder 0.05 setzen\u001B[39;00m\n\u001B[1;32m      3\u001B[0m clf \u001B[38;5;241m=\u001B[39m CD(contamination\u001B[38;5;241m=\u001B[39m\u001B[38;5;241m0.01\u001B[39m,)\n\u001B[0;32m----> 4\u001B[0m \u001B[43mclf\u001B[49m\u001B[38;5;241;43m.\u001B[39;49m\u001B[43mfit\u001B[49m\u001B[43m(\u001B[49m\u001B[43mX_train\u001B[49m\u001B[43m)\u001B[49m\n\u001B[1;32m      6\u001B[0m \u001B[38;5;66;03m# pyod.predict: 0 = inlier, 1 = outlier\u001B[39;00m\n\u001B[1;32m      7\u001B[0m y_pred \u001B[38;5;241m=\u001B[39m clf\u001B[38;5;241m.\u001B[39mpredict(X_test_combined)\n",
      "File \u001B[0;32m/Library/Frameworks/Python.framework/Versions/3.12/lib/python3.12/site-packages/pyod/models/cd.py:170\u001B[0m, in \u001B[0;36mCD.fit\u001B[0;34m(self, X, y)\u001B[0m\n\u001B[1;32m    167\u001B[0m \u001B[38;5;28mself\u001B[39m\u001B[38;5;241m.\u001B[39m_set_n_classes(y)\n\u001B[1;32m    169\u001B[0m \u001B[38;5;66;03m# Get Cook's distance\u001B[39;00m\n\u001B[0;32m--> 170\u001B[0m distances_ \u001B[38;5;241m=\u001B[39m \u001B[43m_process_distances\u001B[49m\u001B[43m(\u001B[49m\u001B[43mX\u001B[49m\u001B[43m,\u001B[49m\u001B[43m \u001B[49m\u001B[38;5;28;43mself\u001B[39;49m\u001B[38;5;241;43m.\u001B[39;49m\u001B[43mmodel\u001B[49m\u001B[43m)\u001B[49m\n\u001B[1;32m    172\u001B[0m \u001B[38;5;28mself\u001B[39m\u001B[38;5;241m.\u001B[39mdecision_scores_ \u001B[38;5;241m=\u001B[39m distances_\n\u001B[1;32m    174\u001B[0m \u001B[38;5;28mself\u001B[39m\u001B[38;5;241m.\u001B[39m_process_decision_scores()\n",
      "File \u001B[0;32m/Library/Frameworks/Python.framework/Versions/3.12/lib/python3.12/site-packages/pyod/models/cd.py:95\u001B[0m, in \u001B[0;36m_process_distances\u001B[0;34m(X, model)\u001B[0m\n\u001B[1;32m     92\u001B[0m     mod\u001B[38;5;241m.\u001B[39mfit(exp, resp)\n\u001B[1;32m     94\u001B[0m     \u001B[38;5;66;03m# Get Cook's Distance\u001B[39;00m\n\u001B[0;32m---> 95\u001B[0m     distance_ \u001B[38;5;241m=\u001B[39m \u001B[43m_Cooks_dist\u001B[49m\u001B[43m(\u001B[49m\u001B[43mexp\u001B[49m\u001B[43m,\u001B[49m\u001B[43m \u001B[49m\u001B[43mresp\u001B[49m\u001B[43m,\u001B[49m\u001B[43m \u001B[49m\u001B[43mmod\u001B[49m\u001B[43m)\u001B[49m\n\u001B[1;32m     97\u001B[0m     distances_\u001B[38;5;241m.\u001B[39mappend(distance_)\n\u001B[1;32m     99\u001B[0m distances_ \u001B[38;5;241m=\u001B[39m np\u001B[38;5;241m.\u001B[39mnanmean(distances_, axis\u001B[38;5;241m=\u001B[39m\u001B[38;5;241m0\u001B[39m)\n",
      "File \u001B[0;32m/Library/Frameworks/Python.framework/Versions/3.12/lib/python3.12/site-packages/pyod/models/cd.py:38\u001B[0m, in \u001B[0;36m_Cooks_dist\u001B[0;34m(X, y, model)\u001B[0m\n\u001B[1;32m     18\u001B[0m \u001B[38;5;250m\u001B[39m\u001B[38;5;124;03m\"\"\"Calculated the Cook's distance\u001B[39;00m\n\u001B[1;32m     19\u001B[0m \n\u001B[1;32m     20\u001B[0m \u001B[38;5;124;03mParameters\u001B[39;00m\n\u001B[0;32m   (...)\u001B[0m\n\u001B[1;32m     34\u001B[0m \u001B[38;5;124;03m    Cook's distance\u001B[39;00m\n\u001B[1;32m     35\u001B[0m \u001B[38;5;124;03m\"\"\"\u001B[39;00m\n\u001B[1;32m     37\u001B[0m \u001B[38;5;66;03m# Leverage is computed as the diagonal of the projection matrix of X\u001B[39;00m\n\u001B[0;32m---> 38\u001B[0m leverage \u001B[38;5;241m=\u001B[39m (X \u001B[38;5;241m*\u001B[39m \u001B[43mnp\u001B[49m\u001B[38;5;241;43m.\u001B[39;49m\u001B[43mlinalg\u001B[49m\u001B[38;5;241;43m.\u001B[39;49m\u001B[43mpinv\u001B[49m\u001B[43m(\u001B[49m\u001B[43mX\u001B[49m\u001B[43m)\u001B[49m\u001B[38;5;241m.\u001B[39mT)\u001B[38;5;241m.\u001B[39msum(\u001B[38;5;241m1\u001B[39m)\n\u001B[1;32m     40\u001B[0m \u001B[38;5;66;03m# Compute the rank and the degrees of freedom of the model\u001B[39;00m\n\u001B[1;32m     41\u001B[0m rank \u001B[38;5;241m=\u001B[39m np\u001B[38;5;241m.\u001B[39mlinalg\u001B[38;5;241m.\u001B[39mmatrix_rank(X)\n",
      "File \u001B[0;32m/Library/Frameworks/Python.framework/Versions/3.12/lib/python3.12/site-packages/numpy/linalg/_linalg.py:2212\u001B[0m, in \u001B[0;36mpinv\u001B[0;34m(a, rcond, hermitian, rtol)\u001B[0m\n\u001B[1;32m   2210\u001B[0m     \u001B[38;5;28;01mreturn\u001B[39;00m wrap(res)\n\u001B[1;32m   2211\u001B[0m a \u001B[38;5;241m=\u001B[39m a\u001B[38;5;241m.\u001B[39mconjugate()\n\u001B[0;32m-> 2212\u001B[0m u, s, vt \u001B[38;5;241m=\u001B[39m \u001B[43msvd\u001B[49m\u001B[43m(\u001B[49m\u001B[43ma\u001B[49m\u001B[43m,\u001B[49m\u001B[43m \u001B[49m\u001B[43mfull_matrices\u001B[49m\u001B[38;5;241;43m=\u001B[39;49m\u001B[38;5;28;43;01mFalse\u001B[39;49;00m\u001B[43m,\u001B[49m\u001B[43m \u001B[49m\u001B[43mhermitian\u001B[49m\u001B[38;5;241;43m=\u001B[39;49m\u001B[43mhermitian\u001B[49m\u001B[43m)\u001B[49m\n\u001B[1;32m   2214\u001B[0m \u001B[38;5;66;03m# discard small singular values\u001B[39;00m\n\u001B[1;32m   2215\u001B[0m cutoff \u001B[38;5;241m=\u001B[39m rcond[\u001B[38;5;241m.\u001B[39m\u001B[38;5;241m.\u001B[39m\u001B[38;5;241m.\u001B[39m, newaxis] \u001B[38;5;241m*\u001B[39m amax(s, axis\u001B[38;5;241m=\u001B[39m\u001B[38;5;241m-\u001B[39m\u001B[38;5;241m1\u001B[39m, keepdims\u001B[38;5;241m=\u001B[39m\u001B[38;5;28;01mTrue\u001B[39;00m)\n",
      "File \u001B[0;32m/Library/Frameworks/Python.framework/Versions/3.12/lib/python3.12/site-packages/numpy/linalg/_linalg.py:1796\u001B[0m, in \u001B[0;36msvd\u001B[0;34m(a, full_matrices, compute_uv, hermitian)\u001B[0m\n\u001B[1;32m   1792\u001B[0m signature \u001B[38;5;241m=\u001B[39m \u001B[38;5;124m'\u001B[39m\u001B[38;5;124mD->DdD\u001B[39m\u001B[38;5;124m'\u001B[39m \u001B[38;5;28;01mif\u001B[39;00m isComplexType(t) \u001B[38;5;28;01melse\u001B[39;00m \u001B[38;5;124m'\u001B[39m\u001B[38;5;124md->ddd\u001B[39m\u001B[38;5;124m'\u001B[39m\n\u001B[1;32m   1793\u001B[0m \u001B[38;5;28;01mwith\u001B[39;00m errstate(call\u001B[38;5;241m=\u001B[39m_raise_linalgerror_svd_nonconvergence,\n\u001B[1;32m   1794\u001B[0m               invalid\u001B[38;5;241m=\u001B[39m\u001B[38;5;124m'\u001B[39m\u001B[38;5;124mcall\u001B[39m\u001B[38;5;124m'\u001B[39m, over\u001B[38;5;241m=\u001B[39m\u001B[38;5;124m'\u001B[39m\u001B[38;5;124mignore\u001B[39m\u001B[38;5;124m'\u001B[39m, divide\u001B[38;5;241m=\u001B[39m\u001B[38;5;124m'\u001B[39m\u001B[38;5;124mignore\u001B[39m\u001B[38;5;124m'\u001B[39m,\n\u001B[1;32m   1795\u001B[0m               under\u001B[38;5;241m=\u001B[39m\u001B[38;5;124m'\u001B[39m\u001B[38;5;124mignore\u001B[39m\u001B[38;5;124m'\u001B[39m):\n\u001B[0;32m-> 1796\u001B[0m     u, s, vh \u001B[38;5;241m=\u001B[39m \u001B[43mgufunc\u001B[49m\u001B[43m(\u001B[49m\u001B[43ma\u001B[49m\u001B[43m,\u001B[49m\u001B[43m \u001B[49m\u001B[43msignature\u001B[49m\u001B[38;5;241;43m=\u001B[39;49m\u001B[43msignature\u001B[49m\u001B[43m)\u001B[49m\n\u001B[1;32m   1797\u001B[0m u \u001B[38;5;241m=\u001B[39m u\u001B[38;5;241m.\u001B[39mastype(result_t, copy\u001B[38;5;241m=\u001B[39m\u001B[38;5;28;01mFalse\u001B[39;00m)\n\u001B[1;32m   1798\u001B[0m s \u001B[38;5;241m=\u001B[39m s\u001B[38;5;241m.\u001B[39mastype(_realType(result_t), copy\u001B[38;5;241m=\u001B[39m\u001B[38;5;28;01mFalse\u001B[39;00m)\n",
      "\u001B[0;31mKeyboardInterrupt\u001B[0m: "
     ]
    }
   ],
   "execution_count": 4
  },
  {
   "metadata": {},
   "cell_type": "code",
   "outputs": [],
   "execution_count": null,
   "source": [
    "# modell trainieren, contamination gibt an, wie viele outlier man im trainigsdatensatz hat\n",
    "# contamination kann man bei reiner novelty detection zb auf 0.01 oder 0.05 setzen\n",
    "clf = CD(contamination=0.01)\n",
    "clf.fit(X_train_scaled_standard)\n",
    "\n",
    "# pyod.predict: 0 = inlier, 1 = outlier\n",
    "y_pred = clf.predict(X_test_combined_scaled_standard)\n",
    "\n",
    "# cm und report\n",
    "cm = confusion_matrix(y_true, y_pred, labels=[1,0])\n",
    "print(\"\\nClassification Report:\\n\", classification_report(y_true, y_pred, target_names=[\"Normal\",\"Relay\"]))\n",
    "\n",
    "# plot\n",
    "plt.figure(figsize=(6,5))\n",
    "sns.heatmap(cm, annot=True, fmt=\"d\",\n",
    "            xticklabels=[\"Relay\",\"Normal\"],\n",
    "            yticklabels=[\"Relay\",\"Normal\"],\n",
    "            cbar=False)\n",
    "plt.xlabel(\"Predicted\")\n",
    "plt.ylabel(\"True\")\n",
    "plt.title(\"Konfusionsmatrix\")\n",
    "plt.tight_layout()\n",
    "plt.show()"
   ],
   "id": "39b657fa002f2d5b"
  },
  {
   "metadata": {},
   "cell_type": "code",
   "outputs": [],
   "execution_count": null,
   "source": [
    "# modell trainieren, contamination gibt an, wie viele outlier man im trainigsdatensatz hat\n",
    "# contamination kann man bei reiner novelty detection zb auf 0.01 oder 0.05 setzen\n",
    "clf = CD(contamination=0.01)\n",
    "clf.fit(X_train_scaled_minmax)\n",
    "\n",
    "# pyod.predict: 0 = inlier, 1 = outlier\n",
    "y_pred = clf.predict(X_test_combined_scaled_minmax)\n",
    "\n",
    "# cm und report\n",
    "cm = confusion_matrix(y_true, y_pred, labels=[1,0])\n",
    "print(\"\\nClassification Report:\\n\", classification_report(y_true, y_pred, target_names=[\"Normal\",\"Relay\"]))\n",
    "\n",
    "# plot\n",
    "plt.figure(figsize=(6,5))\n",
    "sns.heatmap(cm, annot=True, fmt=\"d\",\n",
    "            xticklabels=[\"Relay\",\"Normal\"],\n",
    "            yticklabels=[\"Relay\",\"Normal\"],\n",
    "            cbar=False)\n",
    "plt.xlabel(\"Predicted\")\n",
    "plt.ylabel(\"True\")\n",
    "plt.title(\"Konfusionsmatrix\")\n",
    "plt.tight_layout()\n",
    "plt.show()"
   ],
   "id": "ac2cbf222290d786"
  }
 ],
 "metadata": {
  "kernelspec": {
   "display_name": "Python 3",
   "language": "python",
   "name": "python3"
  },
  "language_info": {
   "codemirror_mode": {
    "name": "ipython",
    "version": 2
   },
   "file_extension": ".py",
   "mimetype": "text/x-python",
   "name": "python",
   "nbconvert_exporter": "python",
   "pygments_lexer": "ipython2",
   "version": "2.7.6"
  }
 },
 "nbformat": 4,
 "nbformat_minor": 5
}
