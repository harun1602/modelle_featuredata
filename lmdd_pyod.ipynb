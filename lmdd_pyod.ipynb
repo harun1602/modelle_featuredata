{
 "cells": [
  {
   "cell_type": "code",
   "id": "initial_id",
   "metadata": {
    "collapsed": true,
    "ExecuteTime": {
     "end_time": "2025-06-08T09:38:48.833829Z",
     "start_time": "2025-06-08T09:38:42.358583Z"
    }
   },
   "source": [
    "import h5py\n",
    "import numpy as np\n",
    "import matplotlib.pyplot as plt\n",
    "import seaborn as sns\n",
    "\n",
    "from sklearn.metrics import confusion_matrix, classification_report\n",
    "from sklearn.preprocessing import MinMaxScaler, StandardScaler\n",
    "from pyod.models.lmdd import LMDD\n",
    "\n",
    "normal_path = \"features/S01/1/Normal/c_data\"\n",
    "relay_path  = \"features/S01/1/Relay/c_data\"\n",
    "\n",
    "with h5py.File(\"datasets/features_S01_combined.h5\", \"r\") as f:\n",
    "    normal_group = f[normal_path]\n",
    "    relay_group  = f[relay_path]\n",
    "\n",
    "    n_norm = normal_group[\"0\"].shape[0]\n",
    "    n_relay = relay_group[\"0\"].shape[0]\n",
    "\n",
    "    dataset_normal = np.zeros((49997, n_norm))\n",
    "    dataset_relay  = np.zeros((49998, n_relay))\n",
    "\n",
    "    for i in range(49997):\n",
    "        try:\n",
    "            dataset_normal[i] = normal_group[str(i)][:]\n",
    "        except KeyError:\n",
    "            continue\n",
    "\n",
    "    for i in range(49998):\n",
    "        try:\n",
    "            dataset_relay[i] = relay_group[str(i)][:]\n",
    "        except KeyError:\n",
    "            continue\n",
    "\n",
    "scalerMinMax = MinMaxScaler()\n",
    "scalerStandard = StandardScaler()\n",
    "\n",
    "X_train               = dataset_normal[:47500]\n",
    "X_test_normal         = dataset_normal[47500:]\n",
    "X_test_relay          = dataset_relay[47500:]\n",
    "\n",
    "scalerMinMax.fit(X_train)\n",
    "X_train_scaled_minmax       = scalerMinMax.transform(X_train)\n",
    "X_test_norm_scaled_minmax   = scalerMinMax.transform(X_test_normal)\n",
    "X_test_relay_scaled_minmax  = scalerMinMax.transform(X_test_relay)\n",
    "\n",
    "scalerStandard.fit(X_train)\n",
    "X_train_scaled_standard        = scalerStandard.transform(X_train)\n",
    "X_test_norm_scaled_standard    = scalerStandard.transform(X_test_normal)\n",
    "X_test_relay_scaled_standard   = scalerStandard.transform(X_test_relay)\n",
    "\n",
    "X_test_combined = np.vstack((X_test_normal, X_test_relay))\n",
    "X_test_combined_scaled_minmax = np.vstack((X_test_norm_scaled_minmax, X_test_relay_scaled_minmax))\n",
    "X_test_combined_scaled_standard = np.vstack((X_test_norm_scaled_standard, X_test_relay_scaled_standard))\n",
    "\n",
    "y_true = np.array([0] * len(X_test_normal) + [1] * len(X_test_relay))"
   ],
   "outputs": [],
   "execution_count": 1
  },
  {
   "metadata": {
    "ExecuteTime": {
     "end_time": "2025-06-08T10:52:57.624595Z",
     "start_time": "2025-06-08T09:38:48.837961Z"
    }
   },
   "cell_type": "code",
   "source": [
    "for n in {50,100,200}:\n",
    "    clf = LMDD(contamination=0.01, n_iter=n)\n",
    "    clf.fit(X_train)\n",
    "\n",
    "    # pyod.predict: 0 = inlier, 1 = outlier\n",
    "    y_pred = clf.predict(X_test_combined)\n",
    "\n",
    "    # cm und report\n",
    "    cm = confusion_matrix(y_true, y_pred, labels=[1,0])\n",
    "    print(f\"n iter {n}\")\n",
    "    print(\"\\nClassification Report:\\n\", classification_report(y_true, y_pred, target_names=[\"Normal\",\"Relay\"]))\n",
    "\n",
    "    # plot\n",
    "    plt.figure(figsize=(6,5))\n",
    "    sns.heatmap(cm, annot=True, fmt=\"d\",\n",
    "                xticklabels=[\"Relay\",\"Normal\"],\n",
    "                yticklabels=[\"Relay\",\"Normal\"],\n",
    "                cbar=False)\n",
    "    plt.xlabel(\"Predicted\")\n",
    "    plt.ylabel(\"True\")\n",
    "    plt.title(\"Konfusionsmatrix\")\n",
    "    plt.tight_layout()\n",
    "    plt.show()"
   ],
   "id": "39e01a66f6e8c080",
   "outputs": [
    {
     "ename": "KeyboardInterrupt",
     "evalue": "",
     "output_type": "error",
     "traceback": [
      "\u001B[0;31m---------------------------------------------------------------------------\u001B[0m",
      "\u001B[0;31mKeyboardInterrupt\u001B[0m                         Traceback (most recent call last)",
      "Cell \u001B[0;32mIn[2], line 3\u001B[0m\n\u001B[1;32m      1\u001B[0m \u001B[38;5;28;01mfor\u001B[39;00m n \u001B[38;5;129;01min\u001B[39;00m {\u001B[38;5;241m50\u001B[39m,\u001B[38;5;241m100\u001B[39m,\u001B[38;5;241m200\u001B[39m}:\n\u001B[1;32m      2\u001B[0m     clf \u001B[38;5;241m=\u001B[39m LMDD(contamination\u001B[38;5;241m=\u001B[39m\u001B[38;5;241m0.01\u001B[39m, n_iter\u001B[38;5;241m=\u001B[39mn)\n\u001B[0;32m----> 3\u001B[0m     \u001B[43mclf\u001B[49m\u001B[38;5;241;43m.\u001B[39;49m\u001B[43mfit\u001B[49m\u001B[43m(\u001B[49m\u001B[43mX_train\u001B[49m\u001B[43m)\u001B[49m\n\u001B[1;32m      5\u001B[0m     \u001B[38;5;66;03m# pyod.predict: 0 = inlier, 1 = outlier\u001B[39;00m\n\u001B[1;32m      6\u001B[0m     y_pred \u001B[38;5;241m=\u001B[39m clf\u001B[38;5;241m.\u001B[39mpredict(X_test_combined)\n",
      "File \u001B[0;32m/Library/Frameworks/Python.framework/Versions/3.12/lib/python3.12/site-packages/pyod/models/lmdd.py:138\u001B[0m, in \u001B[0;36mLMDD.fit\u001B[0;34m(self, X, y)\u001B[0m\n\u001B[1;32m    136\u001B[0m X \u001B[38;5;241m=\u001B[39m check_array(X)\n\u001B[1;32m    137\u001B[0m \u001B[38;5;28mself\u001B[39m\u001B[38;5;241m.\u001B[39m_set_n_classes(y)\n\u001B[0;32m--> 138\u001B[0m \u001B[38;5;28mself\u001B[39m\u001B[38;5;241m.\u001B[39mdecision_scores_ \u001B[38;5;241m=\u001B[39m \u001B[38;5;28;43mself\u001B[39;49m\u001B[38;5;241;43m.\u001B[39;49m\u001B[43mdecision_function\u001B[49m\u001B[43m(\u001B[49m\u001B[43mX\u001B[49m\u001B[43m)\u001B[49m\n\u001B[1;32m    139\u001B[0m \u001B[38;5;28mself\u001B[39m\u001B[38;5;241m.\u001B[39m_process_decision_scores()\n\u001B[1;32m    140\u001B[0m \u001B[38;5;28;01mreturn\u001B[39;00m \u001B[38;5;28mself\u001B[39m\n",
      "File \u001B[0;32m/Library/Frameworks/Python.framework/Versions/3.12/lib/python3.12/site-packages/pyod/models/lmdd.py:160\u001B[0m, in \u001B[0;36mLMDD.decision_function\u001B[0;34m(self, X)\u001B[0m\n\u001B[1;32m    142\u001B[0m \u001B[38;5;28;01mdef\u001B[39;00m\u001B[38;5;250m \u001B[39m\u001B[38;5;21mdecision_function\u001B[39m(\u001B[38;5;28mself\u001B[39m, X):\n\u001B[1;32m    143\u001B[0m \u001B[38;5;250m    \u001B[39m\u001B[38;5;124;03m\"\"\"Predict raw anomaly score of X using the fitted detector.\u001B[39;00m\n\u001B[1;32m    144\u001B[0m \n\u001B[1;32m    145\u001B[0m \u001B[38;5;124;03m    The anomaly score of an input sample is computed based on different\u001B[39;00m\n\u001B[0;32m   (...)\u001B[0m\n\u001B[1;32m    158\u001B[0m \u001B[38;5;124;03m        The anomaly score of the input samples.\u001B[39;00m\n\u001B[1;32m    159\u001B[0m \u001B[38;5;124;03m    \"\"\"\u001B[39;00m\n\u001B[0;32m--> 160\u001B[0m     \u001B[38;5;28;01mreturn\u001B[39;00m \u001B[38;5;28;43mself\u001B[39;49m\u001B[38;5;241;43m.\u001B[39;49m\u001B[43m__sf\u001B[49m\u001B[43m(\u001B[49m\u001B[43mX\u001B[49m\u001B[43m)\u001B[49m\n",
      "File \u001B[0;32m/Library/Frameworks/Python.framework/Versions/3.12/lib/python3.12/site-packages/pyod/models/lmdd.py:208\u001B[0m, in \u001B[0;36mLMDD.__sf\u001B[0;34m(self, X)\u001B[0m\n\u001B[1;32m    206\u001B[0m _x \u001B[38;5;241m=\u001B[39m X[indices]\n\u001B[1;32m    207\u001B[0m \u001B[38;5;66;03m# get dissimilarity of this iteration and restore original order\u001B[39;00m\n\u001B[0;32m--> 208\u001B[0m itr_res \u001B[38;5;241m=\u001B[39m \u001B[38;5;28;43mself\u001B[39;49m\u001B[38;5;241;43m.\u001B[39;49m\u001B[43m__dis\u001B[49m\u001B[43m(\u001B[49m\u001B[43m_x\u001B[49m\u001B[43m)\u001B[49m[np\u001B[38;5;241m.\u001B[39margsort(ind_)]\n\u001B[1;32m    209\u001B[0m current_card \u001B[38;5;241m=\u001B[39m X\u001B[38;5;241m.\u001B[39mshape[\u001B[38;5;241m0\u001B[39m] \u001B[38;5;241m-\u001B[39m \u001B[38;5;28msum\u001B[39m([i \u001B[38;5;241m>\u001B[39m \u001B[38;5;241m0.\u001B[39m \u001B[38;5;28;01mfor\u001B[39;00m i \u001B[38;5;129;01min\u001B[39;00m itr_res])\n\u001B[1;32m    210\u001B[0m \u001B[38;5;66;03m# compare with previous iteration to get the maximal dissimilarity\u001B[39;00m\n",
      "File \u001B[0;32m/Library/Frameworks/Python.framework/Versions/3.12/lib/python3.12/site-packages/pyod/models/lmdd.py:171\u001B[0m, in \u001B[0;36mLMDD.__dis\u001B[0;34m(self, X)\u001B[0m\n\u001B[1;32m    169\u001B[0m \u001B[38;5;66;03m# this can be vectorized but just for comforting memory\u001B[39;00m\n\u001B[1;32m    170\u001B[0m \u001B[38;5;28;01mfor\u001B[39;00m i \u001B[38;5;129;01min\u001B[39;00m \u001B[38;5;28mrange\u001B[39m(\u001B[38;5;241m1\u001B[39m, X\u001B[38;5;241m.\u001B[39mshape[\u001B[38;5;241m0\u001B[39m]):\n\u001B[0;32m--> 171\u001B[0m     _var \u001B[38;5;241m=\u001B[39m \u001B[38;5;28;43mself\u001B[39;49m\u001B[38;5;241;43m.\u001B[39;49m\u001B[43mdis_measure_\u001B[49m\u001B[43m(\u001B[49m\u001B[43mX\u001B[49m\u001B[43m[\u001B[49m\u001B[43m:\u001B[49m\u001B[43mi\u001B[49m\u001B[43m \u001B[49m\u001B[38;5;241;43m+\u001B[39;49m\u001B[43m \u001B[49m\u001B[38;5;241;43m1\u001B[39;49m\u001B[43m]\u001B[49m\u001B[43m)\u001B[49m \u001B[38;5;241m-\u001B[39m \u001B[38;5;28mself\u001B[39m\u001B[38;5;241m.\u001B[39mdis_measure_(X[:i])\n\u001B[1;32m    172\u001B[0m     \u001B[38;5;28;01mif\u001B[39;00m _var \u001B[38;5;241m>\u001B[39m var_max:\n\u001B[1;32m    173\u001B[0m         var_max \u001B[38;5;241m=\u001B[39m _var\n",
      "\u001B[0;31mKeyboardInterrupt\u001B[0m: "
     ]
    }
   ],
   "execution_count": 2
  },
  {
   "metadata": {
    "ExecuteTime": {
     "end_time": "2025-06-08T10:56:07.669434Z",
     "start_time": "2025-06-08T10:52:59.257975Z"
    }
   },
   "cell_type": "code",
   "source": [
    "for n in {50,100,200}:\n",
    "    clf = LMDD(contamination=0.01, n_iter=n)\n",
    "    clf.fit(X_train_scaled_standard)\n",
    "\n",
    "    # pyod.predict: 0 = inlier, 1 = outlier\n",
    "    y_pred = clf.predict(X_test_combined_scaled_standard)\n",
    "\n",
    "    # cm und report\n",
    "    cm = confusion_matrix(y_true, y_pred, labels=[1,0])\n",
    "    print(f\"n iter {n}\")\n",
    "    print(\"\\nClassification Report:\\n\", classification_report(y_true, y_pred, target_names=[\"Normal\",\"Relay\"]))\n",
    "\n",
    "    # plot\n",
    "    plt.figure(figsize=(6,5))\n",
    "    sns.heatmap(cm, annot=True, fmt=\"d\",\n",
    "                xticklabels=[\"Relay\",\"Normal\"],\n",
    "                yticklabels=[\"Relay\",\"Normal\"],\n",
    "                cbar=False)\n",
    "    plt.xlabel(\"Predicted\")\n",
    "    plt.ylabel(\"True\")\n",
    "    plt.title(\"Konfusionsmatrix\")\n",
    "    plt.tight_layout()\n",
    "    plt.show()"
   ],
   "id": "f558638ecf4f5fe1",
   "outputs": [
    {
     "ename": "KeyboardInterrupt",
     "evalue": "",
     "output_type": "error",
     "traceback": [
      "\u001B[0;31m---------------------------------------------------------------------------\u001B[0m",
      "\u001B[0;31mKeyboardInterrupt\u001B[0m                         Traceback (most recent call last)",
      "Cell \u001B[0;32mIn[3], line 3\u001B[0m\n\u001B[1;32m      1\u001B[0m \u001B[38;5;28;01mfor\u001B[39;00m n \u001B[38;5;129;01min\u001B[39;00m {\u001B[38;5;241m50\u001B[39m,\u001B[38;5;241m100\u001B[39m,\u001B[38;5;241m200\u001B[39m}:\n\u001B[1;32m      2\u001B[0m     clf \u001B[38;5;241m=\u001B[39m LMDD(contamination\u001B[38;5;241m=\u001B[39m\u001B[38;5;241m0.01\u001B[39m, n_iter\u001B[38;5;241m=\u001B[39mn)\n\u001B[0;32m----> 3\u001B[0m     \u001B[43mclf\u001B[49m\u001B[38;5;241;43m.\u001B[39;49m\u001B[43mfit\u001B[49m\u001B[43m(\u001B[49m\u001B[43mX_train_scaled_standard\u001B[49m\u001B[43m)\u001B[49m\n\u001B[1;32m      5\u001B[0m     \u001B[38;5;66;03m# pyod.predict: 0 = inlier, 1 = outlier\u001B[39;00m\n\u001B[1;32m      6\u001B[0m     y_pred \u001B[38;5;241m=\u001B[39m clf\u001B[38;5;241m.\u001B[39mpredict(X_test_combined_scaled_standard)\n",
      "File \u001B[0;32m/Library/Frameworks/Python.framework/Versions/3.12/lib/python3.12/site-packages/pyod/models/lmdd.py:138\u001B[0m, in \u001B[0;36mLMDD.fit\u001B[0;34m(self, X, y)\u001B[0m\n\u001B[1;32m    136\u001B[0m X \u001B[38;5;241m=\u001B[39m check_array(X)\n\u001B[1;32m    137\u001B[0m \u001B[38;5;28mself\u001B[39m\u001B[38;5;241m.\u001B[39m_set_n_classes(y)\n\u001B[0;32m--> 138\u001B[0m \u001B[38;5;28mself\u001B[39m\u001B[38;5;241m.\u001B[39mdecision_scores_ \u001B[38;5;241m=\u001B[39m \u001B[38;5;28;43mself\u001B[39;49m\u001B[38;5;241;43m.\u001B[39;49m\u001B[43mdecision_function\u001B[49m\u001B[43m(\u001B[49m\u001B[43mX\u001B[49m\u001B[43m)\u001B[49m\n\u001B[1;32m    139\u001B[0m \u001B[38;5;28mself\u001B[39m\u001B[38;5;241m.\u001B[39m_process_decision_scores()\n\u001B[1;32m    140\u001B[0m \u001B[38;5;28;01mreturn\u001B[39;00m \u001B[38;5;28mself\u001B[39m\n",
      "File \u001B[0;32m/Library/Frameworks/Python.framework/Versions/3.12/lib/python3.12/site-packages/pyod/models/lmdd.py:160\u001B[0m, in \u001B[0;36mLMDD.decision_function\u001B[0;34m(self, X)\u001B[0m\n\u001B[1;32m    142\u001B[0m \u001B[38;5;28;01mdef\u001B[39;00m\u001B[38;5;250m \u001B[39m\u001B[38;5;21mdecision_function\u001B[39m(\u001B[38;5;28mself\u001B[39m, X):\n\u001B[1;32m    143\u001B[0m \u001B[38;5;250m    \u001B[39m\u001B[38;5;124;03m\"\"\"Predict raw anomaly score of X using the fitted detector.\u001B[39;00m\n\u001B[1;32m    144\u001B[0m \n\u001B[1;32m    145\u001B[0m \u001B[38;5;124;03m    The anomaly score of an input sample is computed based on different\u001B[39;00m\n\u001B[0;32m   (...)\u001B[0m\n\u001B[1;32m    158\u001B[0m \u001B[38;5;124;03m        The anomaly score of the input samples.\u001B[39;00m\n\u001B[1;32m    159\u001B[0m \u001B[38;5;124;03m    \"\"\"\u001B[39;00m\n\u001B[0;32m--> 160\u001B[0m     \u001B[38;5;28;01mreturn\u001B[39;00m \u001B[38;5;28;43mself\u001B[39;49m\u001B[38;5;241;43m.\u001B[39;49m\u001B[43m__sf\u001B[49m\u001B[43m(\u001B[49m\u001B[43mX\u001B[49m\u001B[43m)\u001B[49m\n",
      "File \u001B[0;32m/Library/Frameworks/Python.framework/Versions/3.12/lib/python3.12/site-packages/pyod/models/lmdd.py:194\u001B[0m, in \u001B[0;36mLMDD.__sf\u001B[0;34m(self, X)\u001B[0m\n\u001B[1;32m    192\u001B[0m card_ \u001B[38;5;241m=\u001B[39m np\u001B[38;5;241m.\u001B[39mzeros(shape\u001B[38;5;241m=\u001B[39m(X\u001B[38;5;241m.\u001B[39mshape[\u001B[38;5;241m0\u001B[39m],))\n\u001B[1;32m    193\u001B[0m \u001B[38;5;66;03m# perform one process with the original input order\u001B[39;00m\n\u001B[0;32m--> 194\u001B[0m itr_res \u001B[38;5;241m=\u001B[39m \u001B[38;5;28;43mself\u001B[39;49m\u001B[38;5;241;43m.\u001B[39;49m\u001B[43m__dis\u001B[49m\u001B[43m(\u001B[49m\u001B[43mX\u001B[49m\u001B[43m)\u001B[49m\n\u001B[1;32m    195\u001B[0m np\u001B[38;5;241m.\u001B[39mput(card_, X\u001B[38;5;241m.\u001B[39mshape[\u001B[38;5;241m0\u001B[39m] \u001B[38;5;241m-\u001B[39m \u001B[38;5;28msum\u001B[39m([i \u001B[38;5;241m>\u001B[39m \u001B[38;5;241m0.\u001B[39m \u001B[38;5;28;01mfor\u001B[39;00m i \u001B[38;5;129;01min\u001B[39;00m itr_res]),\n\u001B[1;32m    196\u001B[0m        np\u001B[38;5;241m.\u001B[39mwhere(itr_res \u001B[38;5;241m>\u001B[39m \u001B[38;5;241m0.\u001B[39m))\n\u001B[1;32m    198\u001B[0m \u001B[38;5;66;03m# create a copy of random state to preserve original state for\u001B[39;00m\n\u001B[1;32m    199\u001B[0m \u001B[38;5;66;03m# future fits (if any)\u001B[39;00m\n",
      "File \u001B[0;32m/Library/Frameworks/Python.framework/Versions/3.12/lib/python3.12/site-packages/pyod/models/lmdd.py:171\u001B[0m, in \u001B[0;36mLMDD.__dis\u001B[0;34m(self, X)\u001B[0m\n\u001B[1;32m    169\u001B[0m \u001B[38;5;66;03m# this can be vectorized but just for comforting memory\u001B[39;00m\n\u001B[1;32m    170\u001B[0m \u001B[38;5;28;01mfor\u001B[39;00m i \u001B[38;5;129;01min\u001B[39;00m \u001B[38;5;28mrange\u001B[39m(\u001B[38;5;241m1\u001B[39m, X\u001B[38;5;241m.\u001B[39mshape[\u001B[38;5;241m0\u001B[39m]):\n\u001B[0;32m--> 171\u001B[0m     _var \u001B[38;5;241m=\u001B[39m \u001B[38;5;28;43mself\u001B[39;49m\u001B[38;5;241;43m.\u001B[39;49m\u001B[43mdis_measure_\u001B[49m\u001B[43m(\u001B[49m\u001B[43mX\u001B[49m\u001B[43m[\u001B[49m\u001B[43m:\u001B[49m\u001B[43mi\u001B[49m\u001B[43m \u001B[49m\u001B[38;5;241;43m+\u001B[39;49m\u001B[43m \u001B[49m\u001B[38;5;241;43m1\u001B[39;49m\u001B[43m]\u001B[49m\u001B[43m)\u001B[49m \u001B[38;5;241m-\u001B[39m \u001B[38;5;28mself\u001B[39m\u001B[38;5;241m.\u001B[39mdis_measure_(X[:i])\n\u001B[1;32m    172\u001B[0m     \u001B[38;5;28;01mif\u001B[39;00m _var \u001B[38;5;241m>\u001B[39m var_max:\n\u001B[1;32m    173\u001B[0m         var_max \u001B[38;5;241m=\u001B[39m _var\n",
      "\u001B[0;31mKeyboardInterrupt\u001B[0m: "
     ]
    }
   ],
   "execution_count": 3
  },
  {
   "metadata": {},
   "cell_type": "code",
   "outputs": [],
   "execution_count": null,
   "source": [
    "for n in {50,100,200}:\n",
    "    clf = LMDD(contamination=0.01, n_iter=n)\n",
    "    clf.fit(X_train_scaled_minmax)\n",
    "\n",
    "    # pyod.predict: 0 = inlier, 1 = outlier\n",
    "    y_pred = clf.predict(X_test_combined_scaled_minmax)\n",
    "\n",
    "    # cm und report\n",
    "    cm = confusion_matrix(y_true, y_pred, labels=[1,0])\n",
    "    print(f\"n iter {n}\")\n",
    "    print(\"\\nClassification Report:\\n\", classification_report(y_true, y_pred, target_names=[\"Normal\",\"Relay\"]))\n",
    "\n",
    "    # plot\n",
    "    plt.figure(figsize=(6,5))\n",
    "    sns.heatmap(cm, annot=True, fmt=\"d\",\n",
    "                xticklabels=[\"Relay\",\"Normal\"],\n",
    "                yticklabels=[\"Relay\",\"Normal\"],\n",
    "                cbar=False)\n",
    "    plt.xlabel(\"Predicted\")\n",
    "    plt.ylabel(\"True\")\n",
    "    plt.title(\"Konfusionsmatrix\")\n",
    "    plt.tight_layout()\n",
    "    plt.show()"
   ],
   "id": "71b145896d8f0ade"
  }
 ],
 "metadata": {
  "kernelspec": {
   "display_name": "Python 3",
   "language": "python",
   "name": "python3"
  },
  "language_info": {
   "codemirror_mode": {
    "name": "ipython",
    "version": 2
   },
   "file_extension": ".py",
   "mimetype": "text/x-python",
   "name": "python",
   "nbconvert_exporter": "python",
   "pygments_lexer": "ipython2",
   "version": "2.7.6"
  }
 },
 "nbformat": 4,
 "nbformat_minor": 5
}
