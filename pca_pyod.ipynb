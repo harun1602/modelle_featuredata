{
 "cells": [
  {
   "cell_type": "code",
   "id": "initial_id",
   "metadata": {
    "collapsed": true,
    "ExecuteTime": {
     "end_time": "2025-06-11T20:32:51.808236Z",
     "start_time": "2025-06-11T20:32:44.844924Z"
    }
   },
   "source": [
    "import h5py\n",
    "import numpy as np\n",
    "import matplotlib.pyplot as plt\n",
    "import seaborn as sns\n",
    "\n",
    "from sklearn.metrics import confusion_matrix, classification_report\n",
    "from sklearn.preprocessing import MinMaxScaler, StandardScaler\n",
    "from pyod.models.pca import PCA\n",
    "\n",
    "normal_path = \"features/S01/1/Normal/c_data\"\n",
    "relay_path  = \"features/S01/1/Relay/c_data\"\n",
    "\n",
    "with h5py.File(\"datasets/features_S01_combined.h5\", \"r\") as f:\n",
    "    normal_group = f[normal_path]\n",
    "    relay_group  = f[relay_path]\n",
    "\n",
    "    n_norm = normal_group[\"0\"].shape[0]\n",
    "    n_relay = relay_group[\"0\"].shape[0]\n",
    "\n",
    "    dataset_normal = np.zeros((49997, n_norm))\n",
    "    dataset_relay  = np.zeros((49998, n_relay))\n",
    "\n",
    "    for i in range(49997):\n",
    "        try:\n",
    "            dataset_normal[i] = normal_group[str(i)][:]\n",
    "        except KeyError:\n",
    "            continue\n",
    "\n",
    "    for i in range(49998):\n",
    "        try:\n",
    "            dataset_relay[i] = relay_group[str(i)][:]\n",
    "        except KeyError:\n",
    "            continue\n",
    "\n",
    "scalerMinMax = MinMaxScaler()\n",
    "scalerStandard = StandardScaler()\n",
    "\n",
    "X_train               = dataset_normal[:47500]\n",
    "X_test_normal         = dataset_normal[47500:]\n",
    "X_test_relay          = dataset_relay[47500:]\n",
    "\n",
    "scalerMinMax.fit(X_train)\n",
    "X_train_scaled_minmax       = scalerMinMax.transform(X_train)\n",
    "X_test_norm_scaled_minmax   = scalerMinMax.transform(X_test_normal)\n",
    "X_test_relay_scaled_minmax  = scalerMinMax.transform(X_test_relay)\n",
    "\n",
    "scalerStandard.fit(X_train)\n",
    "X_train_scaled_standard        = scalerStandard.transform(X_train)\n",
    "X_test_norm_scaled_standard    = scalerStandard.transform(X_test_normal)\n",
    "X_test_relay_scaled_standard   = scalerStandard.transform(X_test_relay)\n",
    "\n",
    "X_test_combined = np.vstack((X_test_normal, X_test_relay))\n",
    "X_test_combined_scaled_minmax = np.vstack((X_test_norm_scaled_minmax, X_test_relay_scaled_minmax))\n",
    "X_test_combined_scaled_standard = np.vstack((X_test_norm_scaled_standard, X_test_relay_scaled_standard))\n",
    "\n",
    "y_true = np.array([0] * len(X_test_normal) + [1] * len(X_test_relay))"
   ],
   "outputs": [],
   "execution_count": 1
  },
  {
   "metadata": {
    "ExecuteTime": {
     "end_time": "2025-06-11T20:32:52.428312Z",
     "start_time": "2025-06-11T20:32:51.817972Z"
    }
   },
   "cell_type": "code",
   "source": [
    "clf = PCA(contamination=0.01)\n",
    "clf.fit(X_train)\n",
    "\n",
    "# pyod.predict: 0 = inlier, 1 = outlier\n",
    "y_pred = clf.predict(X_test_combined)\n",
    "\n",
    "# cm und report\n",
    "cm = confusion_matrix(y_true, y_pred, labels=[1,0])\n",
    "print(\"\\nClassification Report:\\n\", classification_report(y_true, y_pred, target_names=[\"Normal\",\"Relay\"]))\n",
    "\n",
    "# plot\n",
    "plt.figure(figsize=(6,5))\n",
    "sns.heatmap(cm, annot=True, fmt=\"d\",\n",
    "            xticklabels=[\"Relay\",\"Normal\"],\n",
    "            yticklabels=[\"Relay\",\"Normal\"],\n",
    "            cbar=False)\n",
    "plt.xlabel(\"Predicted\")\n",
    "plt.ylabel(\"True\")\n",
    "plt.title(\"Konfusionsmatrix\")\n",
    "plt.tight_layout()\n",
    "plt.show()"
   ],
   "id": "1bc69202d07710",
   "outputs": [
    {
     "name": "stdout",
     "output_type": "stream",
     "text": [
      "\n",
      "Classification Report:\n",
      "               precision    recall  f1-score   support\n",
      "\n",
      "      Normal       0.50      1.00      0.67      2497\n",
      "       Relay       0.00      0.00      0.00      2498\n",
      "\n",
      "    accuracy                           0.50      4995\n",
      "   macro avg       0.25      0.50      0.33      4995\n",
      "weighted avg       0.25      0.50      0.33      4995\n",
      "\n"
     ]
    },
    {
     "name": "stderr",
     "output_type": "stream",
     "text": [
      "/Library/Frameworks/Python.framework/Versions/3.12/lib/python3.12/site-packages/pyod/models/pca.py:267: RuntimeWarning: divide by zero encountered in divide\n",
      "  cdist(X, self.selected_components_) / self.selected_w_components_,\n",
      "/Library/Frameworks/Python.framework/Versions/3.12/lib/python3.12/site-packages/numpy/lib/_function_base_impl.py:4779: RuntimeWarning: invalid value encountered in subtract\n",
      "  diff_b_a = subtract(b, a)\n",
      "/Library/Frameworks/Python.framework/Versions/3.12/lib/python3.12/site-packages/numpy/_core/_methods.py:185: RuntimeWarning: invalid value encountered in subtract\n",
      "  x = asanyarray(arr - arrmean)\n",
      "/Library/Frameworks/Python.framework/Versions/3.12/lib/python3.12/site-packages/pyod/models/pca.py:298: RuntimeWarning: divide by zero encountered in divide\n",
      "  cdist(X, self.selected_components_) / self.selected_w_components_,\n",
      "/Library/Frameworks/Python.framework/Versions/3.12/lib/python3.12/site-packages/sklearn/metrics/_classification.py:1565: UndefinedMetricWarning: Precision is ill-defined and being set to 0.0 in labels with no predicted samples. Use `zero_division` parameter to control this behavior.\n",
      "  _warn_prf(average, modifier, f\"{metric.capitalize()} is\", len(result))\n",
      "/Library/Frameworks/Python.framework/Versions/3.12/lib/python3.12/site-packages/sklearn/metrics/_classification.py:1565: UndefinedMetricWarning: Precision is ill-defined and being set to 0.0 in labels with no predicted samples. Use `zero_division` parameter to control this behavior.\n",
      "  _warn_prf(average, modifier, f\"{metric.capitalize()} is\", len(result))\n",
      "/Library/Frameworks/Python.framework/Versions/3.12/lib/python3.12/site-packages/sklearn/metrics/_classification.py:1565: UndefinedMetricWarning: Precision is ill-defined and being set to 0.0 in labels with no predicted samples. Use `zero_division` parameter to control this behavior.\n",
      "  _warn_prf(average, modifier, f\"{metric.capitalize()} is\", len(result))\n"
     ]
    },
    {
     "data": {
      "text/plain": [
       "<Figure size 600x500 with 1 Axes>"
      ],
      "image/png": "[encoded data removed]"
     },
     "metadata": {},
     "output_type": "display_data"
    }
   ],
   "execution_count": 2
  },
  {
   "metadata": {
    "ExecuteTime": {
     "end_time": "2025-06-11T20:32:53.062097Z",
     "start_time": "2025-06-11T20:32:52.502756Z"
    }
   },
   "cell_type": "code",
   "source": [
    "clf = PCA(contamination=0.01)\n",
    "clf.fit(X_train_scaled_standard)\n",
    "\n",
    "# pyod.predict: 0 = inlier, 1 = outlier\n",
    "y_pred = clf.predict(X_test_combined_scaled_standard)\n",
    "\n",
    "# cm und report\n",
    "cm = confusion_matrix(y_true, y_pred, labels=[1,0])\n",
    "print(\"\\nClassification Report:\\n\", classification_report(y_true, y_pred, target_names=[\"Normal\",\"Relay\"]))\n",
    "\n",
    "# plot\n",
    "plt.figure(figsize=(6,5))\n",
    "sns.heatmap(cm, annot=True, fmt=\"d\",\n",
    "            xticklabels=[\"Relay\",\"Normal\"],\n",
    "            yticklabels=[\"Relay\",\"Normal\"],\n",
    "            cbar=False)\n",
    "plt.xlabel(\"Predicted\")\n",
    "plt.ylabel(\"True\")\n",
    "plt.title(\"Konfusionsmatrix\")\n",
    "plt.tight_layout()\n",
    "plt.show()"
   ],
   "id": "b11bc6532a7630bf",
   "outputs": [
    {
     "name": "stdout",
     "output_type": "stream",
     "text": [
      "\n",
      "Classification Report:\n",
      "               precision    recall  f1-score   support\n",
      "\n",
      "      Normal       0.50      1.00      0.67      2497\n",
      "       Relay       0.00      0.00      0.00      2498\n",
      "\n",
      "    accuracy                           0.50      4995\n",
      "   macro avg       0.25      0.50      0.33      4995\n",
      "weighted avg       0.25      0.50      0.33      4995\n",
      "\n"
     ]
    },
    {
     "name": "stderr",
     "output_type": "stream",
     "text": [
      "/Library/Frameworks/Python.framework/Versions/3.12/lib/python3.12/site-packages/pyod/models/pca.py:267: RuntimeWarning: divide by zero encountered in divide\n",
      "  cdist(X, self.selected_components_) / self.selected_w_components_,\n",
      "/Library/Frameworks/Python.framework/Versions/3.12/lib/python3.12/site-packages/numpy/lib/_function_base_impl.py:4779: RuntimeWarning: invalid value encountered in subtract\n",
      "  diff_b_a = subtract(b, a)\n",
      "/Library/Frameworks/Python.framework/Versions/3.12/lib/python3.12/site-packages/numpy/_core/_methods.py:185: RuntimeWarning: invalid value encountered in subtract\n",
      "  x = asanyarray(arr - arrmean)\n",
      "/Library/Frameworks/Python.framework/Versions/3.12/lib/python3.12/site-packages/pyod/models/pca.py:298: RuntimeWarning: divide by zero encountered in divide\n",
      "  cdist(X, self.selected_components_) / self.selected_w_components_,\n",
      "/Library/Frameworks/Python.framework/Versions/3.12/lib/python3.12/site-packages/sklearn/metrics/_classification.py:1565: UndefinedMetricWarning: Precision is ill-defined and being set to 0.0 in labels with no predicted samples. Use `zero_division` parameter to control this behavior.\n",
      "  _warn_prf(average, modifier, f\"{metric.capitalize()} is\", len(result))\n",
      "/Library/Frameworks/Python.framework/Versions/3.12/lib/python3.12/site-packages/sklearn/metrics/_classification.py:1565: UndefinedMetricWarning: Precision is ill-defined and being set to 0.0 in labels with no predicted samples. Use `zero_division` parameter to control this behavior.\n",
      "  _warn_prf(average, modifier, f\"{metric.capitalize()} is\", len(result))\n",
      "/Library/Frameworks/Python.framework/Versions/3.12/lib/python3.12/site-packages/sklearn/metrics/_classification.py:1565: UndefinedMetricWarning: Precision is ill-defined and being set to 0.0 in labels with no predicted samples. Use `zero_division` parameter to control this behavior.\n",
      "  _warn_prf(average, modifier, f\"{metric.capitalize()} is\", len(result))\n"
     ]
    },
    {
     "data": {
      "text/plain": [
       "<Figure size 600x500 with 1 Axes>"
      ],
      "image/png": "[encoded data removed]"
     },
     "metadata": {},
     "output_type": "display_data"
    }
   ],
   "execution_count": 3
  },
  {
   "metadata": {
    "ExecuteTime": {
     "end_time": "2025-06-11T20:32:53.620128Z",
     "start_time": "2025-06-11T20:32:53.076756Z"
    }
   },
   "cell_type": "code",
   "source": [
    "clf = PCA(contamination=0.01)\n",
    "clf.fit(X_train_scaled_minmax)\n",
    "\n",
    "# pyod.predict: 0 = inlier, 1 = outlier\n",
    "y_pred = clf.predict(X_test_combined_scaled_minmax)\n",
    "\n",
    "# cm und report\n",
    "cm = confusion_matrix(y_true, y_pred, labels=[1,0])\n",
    "print(\"\\nClassification Report:\\n\", classification_report(y_true, y_pred, target_names=[\"Normal\",\"Relay\"]))\n",
    "\n",
    "# plot\n",
    "plt.figure(figsize=(6,5))\n",
    "sns.heatmap(cm, annot=True, fmt=\"d\",\n",
    "            xticklabels=[\"Relay\",\"Normal\"],\n",
    "            yticklabels=[\"Relay\",\"Normal\"],\n",
    "            cbar=False)\n",
    "plt.xlabel(\"Predicted\")\n",
    "plt.ylabel(\"True\")\n",
    "plt.title(\"Konfusionsmatrix\")\n",
    "plt.tight_layout()\n",
    "plt.show()"
   ],
   "id": "35cf20434f224312",
   "outputs": [
    {
     "name": "stdout",
     "output_type": "stream",
     "text": [
      "\n",
      "Classification Report:\n",
      "               precision    recall  f1-score   support\n",
      "\n",
      "      Normal       0.50      1.00      0.67      2497\n",
      "       Relay       0.00      0.00      0.00      2498\n",
      "\n",
      "    accuracy                           0.50      4995\n",
      "   macro avg       0.25      0.50      0.33      4995\n",
      "weighted avg       0.25      0.50      0.33      4995\n",
      "\n"
     ]
    },
    {
     "name": "stderr",
     "output_type": "stream",
     "text": [
      "/Library/Frameworks/Python.framework/Versions/3.12/lib/python3.12/site-packages/pyod/models/pca.py:267: RuntimeWarning: divide by zero encountered in divide\n",
      "  cdist(X, self.selected_components_) / self.selected_w_components_,\n",
      "/Library/Frameworks/Python.framework/Versions/3.12/lib/python3.12/site-packages/numpy/lib/_function_base_impl.py:4779: RuntimeWarning: invalid value encountered in subtract\n",
      "  diff_b_a = subtract(b, a)\n",
      "/Library/Frameworks/Python.framework/Versions/3.12/lib/python3.12/site-packages/numpy/_core/_methods.py:185: RuntimeWarning: invalid value encountered in subtract\n",
      "  x = asanyarray(arr - arrmean)\n",
      "/Library/Frameworks/Python.framework/Versions/3.12/lib/python3.12/site-packages/pyod/models/pca.py:298: RuntimeWarning: divide by zero encountered in divide\n",
      "  cdist(X, self.selected_components_) / self.selected_w_components_,\n",
      "/Library/Frameworks/Python.framework/Versions/3.12/lib/python3.12/site-packages/sklearn/metrics/_classification.py:1565: UndefinedMetricWarning: Precision is ill-defined and being set to 0.0 in labels with no predicted samples. Use `zero_division` parameter to control this behavior.\n",
      "  _warn_prf(average, modifier, f\"{metric.capitalize()} is\", len(result))\n",
      "/Library/Frameworks/Python.framework/Versions/3.12/lib/python3.12/site-packages/sklearn/metrics/_classification.py:1565: UndefinedMetricWarning: Precision is ill-defined and being set to 0.0 in labels with no predicted samples. Use `zero_division` parameter to control this behavior.\n",
      "  _warn_prf(average, modifier, f\"{metric.capitalize()} is\", len(result))\n",
      "/Library/Frameworks/Python.framework/Versions/3.12/lib/python3.12/site-packages/sklearn/metrics/_classification.py:1565: UndefinedMetricWarning: Precision is ill-defined and being set to 0.0 in labels with no predicted samples. Use `zero_division` parameter to control this behavior.\n",
      "  _warn_prf(average, modifier, f\"{metric.capitalize()} is\", len(result))\n"
     ]
    },
    {
     "data": {
      "text/plain": [
       "<Figure size 600x500 with 1 Axes>"
      ],
      "image/png": "[encoded data removed]"
     },
     "metadata": {},
     "output_type": "display_data"
    }
   ],
   "execution_count": 4
  }
 ],
 "metadata": {
  "kernelspec": {
   "display_name": "Python 3",
   "language": "python",
   "name": "python3"
  },
  "language_info": {
   "codemirror_mode": {
    "name": "ipython",
    "version": 2
   },
   "file_extension": ".py",
   "mimetype": "text/x-python",
   "name": "python",
   "nbconvert_exporter": "python",
   "pygments_lexer": "ipython2",
   "version": "2.7.6"
  }
 },
 "nbformat": 4,
 "nbformat_minor": 5
}
