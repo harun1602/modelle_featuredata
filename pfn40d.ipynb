{
 "cells": [
  {
   "cell_type": "code",
   "execution_count": null,
   "id": "initial_id",
   "metadata": {
    "collapsed": true
   },
   "outputs": [],
   "source": [
    "import torch\n",
    "from fomo0d.model import FoMo0DModel  # Paketname kann im Repo variieren\n",
    "\n",
    "# Feature-Dimension (hier 173) und Ziel-Device anpassen\n",
    "device = \"cuda\" if torch.cuda.is_available() else \"cpu\"\n",
    "model = FoMo0DModel(d=173).to(device)\n",
    "\n",
    "# Gewichte laden (Pfad ggf. anpassen)\n",
    "state = torch.load(\"checkpoints/fomo0d_D100_R500.pt\", map_location=device)\n",
    "model.load_state_dict(state)\n",
    "model.eval()\n"
   ]
  }
 ],
 "metadata": {
  "kernelspec": {
   "display_name": "Python 3",
   "language": "python",
   "name": "python3"
  },
  "language_info": {
   "codemirror_mode": {
    "name": "ipython",
    "version": 2
   },
   "file_extension": ".py",
   "mimetype": "text/x-python",
   "name": "python",
   "nbconvert_exporter": "python",
   "pygments_lexer": "ipython2",
   "version": "2.7.6"
  }
 },
 "nbformat": 4,
 "nbformat_minor": 5
}
