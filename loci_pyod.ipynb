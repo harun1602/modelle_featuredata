{
 "cells": [
  {
   "cell_type": "code",
   "id": "initial_id",
   "metadata": {
    "collapsed": true,
    "ExecuteTime": {
     "end_time": "2025-06-08T10:56:56.918981Z",
     "start_time": "2025-06-08T10:56:50.568111Z"
    }
   },
   "source": [
    "import h5py\n",
    "import numpy as np\n",
    "import matplotlib.pyplot as plt\n",
    "import seaborn as sns\n",
    "\n",
    "from sklearn.metrics import confusion_matrix, classification_report\n",
    "from sklearn.preprocessing import MinMaxScaler, StandardScaler\n",
    "from pyod.models.loci import LOCI\n",
    "\n",
    "normal_path = \"features/S01/1/Normal/c_data\"\n",
    "relay_path  = \"features/S01/1/Relay/c_data\"\n",
    "\n",
    "with h5py.File(\"datasets/features_S01_combined.h5\", \"r\") as f:\n",
    "    normal_group = f[normal_path]\n",
    "    relay_group  = f[relay_path]\n",
    "\n",
    "    n_norm = normal_group[\"0\"].shape[0]\n",
    "    n_relay = relay_group[\"0\"].shape[0]\n",
    "\n",
    "    dataset_normal = np.zeros((49997, n_norm))\n",
    "    dataset_relay  = np.zeros((49998, n_relay))\n",
    "\n",
    "    for i in range(49997):\n",
    "        try:\n",
    "            dataset_normal[i] = normal_group[str(i)][:]\n",
    "        except KeyError:\n",
    "            continue\n",
    "\n",
    "    for i in range(49998):\n",
    "        try:\n",
    "            dataset_relay[i] = relay_group[str(i)][:]\n",
    "        except KeyError:\n",
    "            continue\n",
    "\n",
    "scalerMinMax = MinMaxScaler()\n",
    "scalerStandard = StandardScaler()\n",
    "\n",
    "X_train               = dataset_normal[:47500]\n",
    "X_test_normal         = dataset_normal[47500:]\n",
    "X_test_relay          = dataset_relay[47500:]\n",
    "\n",
    "scalerMinMax.fit(X_train)\n",
    "X_train_scaled_minmax       = scalerMinMax.transform(X_train)\n",
    "X_test_norm_scaled_minmax   = scalerMinMax.transform(X_test_normal)\n",
    "X_test_relay_scaled_minmax  = scalerMinMax.transform(X_test_relay)\n",
    "\n",
    "scalerStandard.fit(X_train)\n",
    "X_train_scaled_standard        = scalerStandard.transform(X_train)\n",
    "X_test_norm_scaled_standard    = scalerStandard.transform(X_test_normal)\n",
    "X_test_relay_scaled_standard   = scalerStandard.transform(X_test_relay)\n",
    "\n",
    "X_test_combined = np.vstack((X_test_normal, X_test_relay))\n",
    "X_test_combined_scaled_minmax = np.vstack((X_test_norm_scaled_minmax, X_test_relay_scaled_minmax))\n",
    "X_test_combined_scaled_standard = np.vstack((X_test_norm_scaled_standard, X_test_relay_scaled_standard))\n",
    "\n",
    "y_true = np.array([0] * len(X_test_normal) + [1] * len(X_test_relay))"
   ],
   "outputs": [],
   "execution_count": 1
  },
  {
   "metadata": {
    "ExecuteTime": {
     "end_time": "2025-06-08T11:31:57.665595Z",
     "start_time": "2025-06-08T10:56:56.922919Z"
    }
   },
   "cell_type": "code",
   "source": [
    "for a in {0.1, 0.5, 0.9}:\n",
    "    for k in {2,3,8,15}:\n",
    "        clf = LOCI(contamination=0.01, alpha=a, k=k)\n",
    "        clf.fit(X_train)\n",
    "\n",
    "        # pyod.predict: 0 = inlier, 1 = outlier\n",
    "        y_pred = clf.predict(X_test_combined)\n",
    "\n",
    "        # cm und report\n",
    "        cm = confusion_matrix(y_true, y_pred, labels=[1,0])\n",
    "        print(f\"alpha {a}\")\n",
    "        print(f\"k {k}\")\n",
    "        print(\"\\nClassification Report:\\n\", classification_report(y_true, y_pred, target_names=[\"Normal\",\"Relay\"]))\n",
    "\n",
    "        # plot\n",
    "        plt.figure(figsize=(6,5))\n",
    "        sns.heatmap(cm, annot=True, fmt=\"d\",\n",
    "                    xticklabels=[\"Relay\",\"Normal\"],\n",
    "                    yticklabels=[\"Relay\",\"Normal\"],\n",
    "                    cbar=False)\n",
    "        plt.xlabel(\"Predicted\")\n",
    "        plt.ylabel(\"True\")\n",
    "        plt.title(\"Konfusionsmatrix\")\n",
    "        plt.tight_layout()\n",
    "        plt.show()"
   ],
   "id": "1b2bdba1c6360639",
   "outputs": [
    {
     "ename": "KeyboardInterrupt",
     "evalue": "",
     "output_type": "error",
     "traceback": [
      "\u001B[0;31m---------------------------------------------------------------------------\u001B[0m",
      "\u001B[0;31mKeyboardInterrupt\u001B[0m                         Traceback (most recent call last)",
      "Cell \u001B[0;32mIn[2], line 4\u001B[0m\n\u001B[1;32m      2\u001B[0m \u001B[38;5;28;01mfor\u001B[39;00m k \u001B[38;5;129;01min\u001B[39;00m {\u001B[38;5;241m2\u001B[39m,\u001B[38;5;241m3\u001B[39m,\u001B[38;5;241m8\u001B[39m,\u001B[38;5;241m15\u001B[39m}:\n\u001B[1;32m      3\u001B[0m     clf \u001B[38;5;241m=\u001B[39m LOCI(contamination\u001B[38;5;241m=\u001B[39m\u001B[38;5;241m0.01\u001B[39m, alpha\u001B[38;5;241m=\u001B[39ma, k\u001B[38;5;241m=\u001B[39mk)\n\u001B[0;32m----> 4\u001B[0m     \u001B[43mclf\u001B[49m\u001B[38;5;241;43m.\u001B[39;49m\u001B[43mfit\u001B[49m\u001B[43m(\u001B[49m\u001B[43mX_train\u001B[49m\u001B[43m)\u001B[49m\n\u001B[1;32m      6\u001B[0m     \u001B[38;5;66;03m# pyod.predict: 0 = inlier, 1 = outlier\u001B[39;00m\n\u001B[1;32m      7\u001B[0m     y_pred \u001B[38;5;241m=\u001B[39m clf\u001B[38;5;241m.\u001B[39mpredict(X_test_combined)\n",
      "File \u001B[0;32m/Library/Frameworks/Python.framework/Versions/3.12/lib/python3.12/site-packages/pyod/models/loci.py:233\u001B[0m, in \u001B[0;36mLOCI.fit\u001B[0;34m(self, X, y)\u001B[0m\n\u001B[1;32m    231\u001B[0m X \u001B[38;5;241m=\u001B[39m check_array(X)\n\u001B[1;32m    232\u001B[0m \u001B[38;5;28mself\u001B[39m\u001B[38;5;241m.\u001B[39m_set_n_classes(y)\n\u001B[0;32m--> 233\u001B[0m \u001B[38;5;28mself\u001B[39m\u001B[38;5;241m.\u001B[39mdecision_scores_ \u001B[38;5;241m=\u001B[39m \u001B[38;5;28;43mself\u001B[39;49m\u001B[38;5;241;43m.\u001B[39;49m\u001B[43m_calculate_decision_score\u001B[49m\u001B[43m(\u001B[49m\u001B[43mX\u001B[49m\u001B[43m)\u001B[49m\n\u001B[1;32m    234\u001B[0m \u001B[38;5;28mself\u001B[39m\u001B[38;5;241m.\u001B[39mlabels_ \u001B[38;5;241m=\u001B[39m (\u001B[38;5;28mself\u001B[39m\u001B[38;5;241m.\u001B[39mdecision_scores_ \u001B[38;5;241m>\u001B[39m \u001B[38;5;28mself\u001B[39m\u001B[38;5;241m.\u001B[39mthreshold_)\u001B[38;5;241m.\u001B[39mastype(\n\u001B[1;32m    235\u001B[0m     \u001B[38;5;124m'\u001B[39m\u001B[38;5;124mint\u001B[39m\u001B[38;5;124m'\u001B[39m)\u001B[38;5;241m.\u001B[39mravel()\n\u001B[1;32m    237\u001B[0m \u001B[38;5;66;03m# calculate for predict_proba()\u001B[39;00m\n",
      "File \u001B[0;32m/Library/Frameworks/Python.framework/Versions/3.12/lib/python3.12/site-packages/pyod/models/loci.py:202\u001B[0m, in \u001B[0;36mLOCI._calculate_decision_score\u001B[0;34m(self, X)\u001B[0m\n\u001B[1;32m    199\u001B[0m critical_values \u001B[38;5;241m=\u001B[39m _get_critical_values(dist_matrix, \u001B[38;5;28mself\u001B[39m\u001B[38;5;241m.\u001B[39malpha,\n\u001B[1;32m    200\u001B[0m                                        p_ix, r_max)\n\u001B[1;32m    201\u001B[0m \u001B[38;5;28;01mfor\u001B[39;00m r \u001B[38;5;129;01min\u001B[39;00m critical_values:\n\u001B[0;32m--> 202\u001B[0m     n_values \u001B[38;5;241m=\u001B[39m \u001B[38;5;28;43mself\u001B[39;49m\u001B[38;5;241;43m.\u001B[39;49m\u001B[43m_get_alpha_n\u001B[49m\u001B[43m(\u001B[49m\u001B[43mdist_matrix\u001B[49m\u001B[43m,\u001B[49m\n\u001B[1;32m    203\u001B[0m \u001B[43m                                 \u001B[49m\u001B[43m_get_sampling_N\u001B[49m\u001B[43m(\u001B[49m\u001B[43mdist_matrix\u001B[49m\u001B[43m,\u001B[49m\n\u001B[1;32m    204\u001B[0m \u001B[43m                                                 \u001B[49m\u001B[43mp_ix\u001B[49m\u001B[43m,\u001B[49m\u001B[43m \u001B[49m\u001B[43mr\u001B[49m\u001B[43m)\u001B[49m\u001B[43m,\u001B[49m\u001B[43m \u001B[49m\u001B[43mr\u001B[49m\u001B[43m)\u001B[49m\n\u001B[1;32m    205\u001B[0m     cur_alpha_n \u001B[38;5;241m=\u001B[39m \u001B[38;5;28mself\u001B[39m\u001B[38;5;241m.\u001B[39m_get_alpha_n(dist_matrix, p_ix, r)\n\u001B[1;32m    206\u001B[0m     n_hat \u001B[38;5;241m=\u001B[39m np\u001B[38;5;241m.\u001B[39mmean(n_values)\n",
      "File \u001B[0;32m/Library/Frameworks/Python.framework/Versions/3.12/lib/python3.12/site-packages/pyod/models/loci.py:176\u001B[0m, in \u001B[0;36mLOCI._get_alpha_n\u001B[0;34m(self, dist_matrix, indices, r)\u001B[0m\n\u001B[1;32m    174\u001B[0m     \u001B[38;5;28;01mreturn\u001B[39;00m alpha_n\n\u001B[1;32m    175\u001B[0m \u001B[38;5;28;01melse\u001B[39;00m:\n\u001B[0;32m--> 176\u001B[0m     alpha_n \u001B[38;5;241m=\u001B[39m \u001B[43mnp\u001B[49m\u001B[38;5;241;43m.\u001B[39;49m\u001B[43mcount_nonzero\u001B[49m\u001B[43m(\u001B[49m\n\u001B[1;32m    177\u001B[0m \u001B[43m        \u001B[49m\u001B[43mdist_matrix\u001B[49m\u001B[43m[\u001B[49m\u001B[43mindices\u001B[49m\u001B[43m,\u001B[49m\u001B[43m \u001B[49m\u001B[43m:\u001B[49m\u001B[43m]\u001B[49m\u001B[43m \u001B[49m\u001B[38;5;241;43m<\u001B[39;49m\u001B[43m \u001B[49m\u001B[43m(\u001B[49m\u001B[43mr\u001B[49m\u001B[43m \u001B[49m\u001B[38;5;241;43m*\u001B[39;49m\u001B[43m \u001B[49m\u001B[38;5;28;43mself\u001B[39;49m\u001B[38;5;241;43m.\u001B[39;49m\u001B[43malpha\u001B[49m\u001B[43m)\u001B[49m\u001B[43m,\u001B[49m\u001B[43m \u001B[49m\u001B[43maxis\u001B[49m\u001B[38;5;241;43m=\u001B[39;49m\u001B[38;5;241;43m1\u001B[39;49m\u001B[43m)\u001B[49m\n\u001B[1;32m    178\u001B[0m     \u001B[38;5;28;01mreturn\u001B[39;00m alpha_n\n",
      "\u001B[0;31mKeyboardInterrupt\u001B[0m: "
     ]
    }
   ],
   "execution_count": 2
  },
  {
   "metadata": {},
   "cell_type": "code",
   "outputs": [],
   "execution_count": null,
   "source": [
    "for a in {0.1, 0.5, 0.9}:\n",
    "    for k in {2,3,8,15}:\n",
    "        clf = LOCI(contamination=0.01, alpha=a, k=k)\n",
    "        clf.fit(X_train_scaled_standard)\n",
    "\n",
    "        # pyod.predict: 0 = inlier, 1 = outlier\n",
    "        y_pred = clf.predict(X_test_combined_scaled_standard)\n",
    "\n",
    "        # cm und report\n",
    "        cm = confusion_matrix(y_true, y_pred, labels=[1,0])\n",
    "        print(f\"alpha {a}\")\n",
    "        print(f\"k {k}\")\n",
    "        print(\"\\nClassification Report:\\n\", classification_report(y_true, y_pred, target_names=[\"Normal\",\"Relay\"]))\n",
    "\n",
    "        # plot\n",
    "        plt.figure(figsize=(6,5))\n",
    "        sns.heatmap(cm, annot=True, fmt=\"d\",\n",
    "                    xticklabels=[\"Relay\",\"Normal\"],\n",
    "                    yticklabels=[\"Relay\",\"Normal\"],\n",
    "                    cbar=False)\n",
    "        plt.xlabel(\"Predicted\")\n",
    "        plt.ylabel(\"True\")\n",
    "        plt.title(\"Konfusionsmatrix\")\n",
    "        plt.tight_layout()\n",
    "        plt.show()"
   ],
   "id": "82070457de880f7a"
  },
  {
   "metadata": {},
   "cell_type": "code",
   "outputs": [],
   "execution_count": null,
   "source": [
    "for a in {0.1, 0.5, 0.9}:\n",
    "    for k in {2,3,8,15}:\n",
    "        clf = LOCI(contamination=0.01, alpha=a, k=k)\n",
    "        clf.fit(X_train_scaled_minmax)\n",
    "\n",
    "        # pyod.predict: 0 = inlier, 1 = outlier\n",
    "        y_pred = clf.predict(X_test_combined_scaled_minmax)\n",
    "\n",
    "        # cm und report\n",
    "        cm = confusion_matrix(y_true, y_pred, labels=[1,0])\n",
    "        print(f\"alpha {a}\")\n",
    "        print(f\"k {k}\")\n",
    "        print(\"\\nClassification Report:\\n\", classification_report(y_true, y_pred, target_names=[\"Normal\",\"Relay\"]))\n",
    "\n",
    "        # plot\n",
    "        plt.figure(figsize=(6,5))\n",
    "        sns.heatmap(cm, annot=True, fmt=\"d\",\n",
    "                    xticklabels=[\"Relay\",\"Normal\"],\n",
    "                    yticklabels=[\"Relay\",\"Normal\"],\n",
    "                    cbar=False)\n",
    "        plt.xlabel(\"Predicted\")\n",
    "        plt.ylabel(\"True\")\n",
    "        plt.title(\"Konfusionsmatrix\")\n",
    "        plt.tight_layout()\n",
    "        plt.show()"
   ],
   "id": "22ab54c0d632ccb4"
  }
 ],
 "metadata": {
  "kernelspec": {
   "display_name": "Python 3",
   "language": "python",
   "name": "python3"
  },
  "language_info": {
   "codemirror_mode": {
    "name": "ipython",
    "version": 2
   },
   "file_extension": ".py",
   "mimetype": "text/x-python",
   "name": "python",
   "nbconvert_exporter": "python",
   "pygments_lexer": "ipython2",
   "version": "2.7.6"
  }
 },
 "nbformat": 4,
 "nbformat_minor": 5
}
