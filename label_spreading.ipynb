{
 "cells": [
  {
   "cell_type": "code",
   "id": "initial_id",
   "metadata": {
    "collapsed": true,
    "ExecuteTime": {
     "end_time": "2025-06-14T08:39:59.163937Z",
     "start_time": "2025-06-14T08:34:40.535716Z"
    }
   },
   "source": [
    "import numpy as np\n",
    "import h5py\n",
    "from sklearn.semi_supervised import LabelSpreading\n",
    "from sklearn.metrics import classification_report, confusion_matrix\n",
    "\n",
    "# --- load your data (as you already have it) ---\n",
    "with h5py.File(\"datasets/features_S01_combined.h5\", \"r\") as f:\n",
    "    norm_grp = f[\"features/S01/1/Normal/c_data\"]\n",
    "    relay_grp = f[\"features/S01/1/Relay/c_data\"]\n",
    "    n_norm = norm_grp[\"0\"].shape[0]\n",
    "    n_relay = relay_grp[\"0\"].shape[0]\n",
    "\n",
    "    # allocate\n",
    "    data_norm  = np.zeros((49997, n_norm))\n",
    "    data_relay = np.zeros((49998, n_relay))\n",
    "    for i in range(49997):\n",
    "        try: data_norm[i]  = norm_grp[str(i)][:]\n",
    "        except KeyError: pass\n",
    "    for i in range(49998):\n",
    "        try: data_relay[i] = relay_grp[str(i)][:]\n",
    "        except KeyError: pass\n",
    "\n",
    "X_train          = data_norm[:47500]\n",
    "X_test_norm      = data_norm[47500:]\n",
    "X_test_relay     = data_relay[47500:]\n",
    "X_test_combined  = np.vstack((X_test_norm, X_test_relay))\n",
    "y_true           = np.array([0]*len(X_test_norm) + [1]*len(X_test_relay))\n",
    "\n",
    "# --- prepare semi-supervised training set ---\n",
    "# combine all training candidates: normals + relays\n",
    "X_ssl = np.vstack((X_train, X_test_relay))\n",
    "y_ssl = np.hstack((np.zeros(len(X_train)), np.ones(len(X_test_relay))))\n",
    "\n",
    "# initialize as “unlabeled”\n",
    "y_labels = np.full_like(y_ssl, fill_value=-1, dtype=int)\n",
    "\n",
    "# pick 100 normals and 100 relays as initially labeled\n",
    "rng = np.random.RandomState(42)\n",
    "norm_idx  = rng.choice(np.where(y_ssl==0)[0], 100, replace=False)\n",
    "relay_idx = rng.choice(np.where(y_ssl==1)[0], 100, replace=False)\n",
    "y_labels[norm_idx]  = 0\n",
    "y_labels[relay_idx] = 1\n",
    "\n",
    "# --- fit LabelSpreading ---\n",
    "model = LabelSpreading(kernel='rbf', alpha=0.2, max_iter=1000)\n",
    "model.fit(X_ssl, y_labels)\n",
    "\n",
    "# --- predict on your held-out test set ---\n",
    "y_pred = model.predict(X_test_combined)\n",
    "\n",
    "print(\"Confusion Matrix:\")\n",
    "print(confusion_matrix(y_true, y_pred))\n",
    "print(\"\\nClassification Report:\")\n",
    "print(classification_report(y_true, y_pred))\n"
   ],
   "outputs": [],
   "execution_count": null
  },
  {
   "metadata": {},
   "cell_type": "code",
   "outputs": [],
   "execution_count": null,
   "source": "",
   "id": "e086b8458251f91b"
  }
 ],
 "metadata": {
  "kernelspec": {
   "display_name": "Python 3",
   "language": "python",
   "name": "python3"
  },
  "language_info": {
   "codemirror_mode": {
    "name": "ipython",
    "version": 2
   },
   "file_extension": ".py",
   "mimetype": "text/x-python",
   "name": "python",
   "nbconvert_exporter": "python",
   "pygments_lexer": "ipython2",
   "version": "2.7.6"
  }
 },
 "nbformat": 4,
 "nbformat_minor": 5
}
